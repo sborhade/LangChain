{
 "cells": [
  {
   "cell_type": "code",
   "execution_count": null,
   "metadata": {},
   "outputs": [],
   "source": [
    "Data Ingestion - Dataloadder langchain "
   ]
  },
  {
   "cell_type": "code",
   "execution_count": null,
   "metadata": {},
   "outputs": [],
   "source": [
    "from langchain_community.document_loaders import TextLoader\n",
    "loader = TextLoader(\"big.txt\")"
   ]
  },
  {
   "cell_type": "code",
   "execution_count": 33,
   "metadata": {},
   "outputs": [],
   "source": [
    "text_docs = loader.load()"
   ]
  },
  {
   "cell_type": "code",
   "execution_count": 53,
   "metadata": {},
   "outputs": [
    {
     "data": {
      "text/plain": [
       "[Document(metadata={'source': 'US_Declaration.pdf', 'page': 0}, page_content=\"Declaration of Independence\\nIN CONGRESS, July 4, 1776.  \\nThe unanimous Declaration of the thirteen united States of America, \\nWhen in the Course of human events, it becomes necessary for one people to dissolve the\\npolitical bands which have connected them with another, and to assume among the powers of the\\nearth, the separate and equal station to which the Laws of Nature and of Nature's God entitle\\nthem, a decent respect to the opinions of mankind requires that they should declare the causes\\nwhich impel them to the separation. \\nWe hold these truths to be self-evident, that all men are created equal, that they are endowed by\\ntheir Creator with certain unalienable Rights, that among these are Life, Liberty and the pursuit\\nof Happiness.— \\x14That to secure these rights, Governments are instituted among Men, deriving\\ntheir just powers from the consent of the governed,—  \\x14That whenever any Form of Government\\nbecomes destructive of these ends, it is the Right of the People to alter or to abolish it, and to\\ninstitute new Government, laying its foundation on such principles and organizing its powers in\\nsuch form, as to them shall seem most likely to effect their Safety and Happiness. Prudence,\\nindeed, will dictate that Governments long established should not be changed for light and\\ntransient causes; and accordingly all experience hath shewn, that mankind are more disposed to\\nsuffer, while evils are sufferable, than to right themselves by abolishing the forms to which they\\nare accustomed. But when a long train of abuses and usurpations, pursuing invariably the same\\nObject evinces a design to reduce them under absolute Despotism, it is their right, it is their duty,\\nto throw off such Government, and to provide new Guards for their future security.— \\x14Such has\\nbeen the patient sufferance of these Colonies; and such is now the necessity which constrains\\nthem to alter their former Systems of Government. The history of the present King of Great\\nBritain is a history of repeated injuries and usurpations, all having in direct object the\\nestablishment of an absolute Tyranny over these States. To prove this, let Facts be submitted to a\\ncandid world. \\nHe has refused his Assent to Laws, the most wholesome and necessary for the\\npublic good.\\nHe has forbidden his Governors to pass Laws of immediate and pressing\\nimportance, unless suspended in their operation till his Assent should be obtained;\\nand when so suspended, he has utterly neglected to attend to them.\\nHe has refused to pass other Laws for the accommodation of large districts of\\npeople, unless those people would relinquish the right of Representation in the\\nLegislature, a right inestimable to them and formidable to tyrants only. \\nHe has called together legislative bodies at places unusual, uncomfortable, and distant\\nfrom the depository of their public Records, for the sole purpose of fatiguing them into\\ncompliance with his measures.\"),\n",
       " Document(metadata={'source': 'US_Declaration.pdf', 'page': 1}, page_content='He has dissolved Representative Houses repeatedly, for opposing with manly\\nfirmness his invasions on the rights of the people.\\nHe has refused for a long time, after such dissolutions, to cause others to be\\nelected; whereby the Legislative powers, incapable of Annihilation, have returned\\nto the People at large for their exercise; the State remaining in the mean time\\nexposed to all the dangers of invasion from without, and convulsions within.\\nHe has endeavoured to prevent the population of these States; for that purpose\\nobstructing the Laws for Naturalization of Foreigners; refusing to pass others to\\nencourage their migrations hither, and raising the conditions of new\\nAppropriations of Lands.\\nHe has obstructed the Administration of Justice, by refusing his Assent to Laws\\nfor establishing Judiciary powers.\\nHe has made Judges dependent on his Will alone, for the tenure of their offices,\\nand the amount and payment of their salaries.\\nHe has erected a multitude of New Offices, and sent hither swarms of Officers to\\nharrass our people, and eat out their substance.\\nHe has kept among us, in times of peace, Standing Armies without the Consent of\\nour legislatures.\\nHe has affected to render the Military independent of and superior to the Civil power.\\nHe has combined with others to subject us to a jurisdiction foreign to our\\nconstitution, and unacknowledged by our laws; giving his Assent to their Acts of\\npretended Legislation:\\nFor Quartering large bodies of armed troops among us:\\nFor protecting them, by a mock Trial, from punishment for any Murders which\\nthey should commit on the Inhabitants of these States:\\nFor cutting off our Trade with all parts of the world:\\nFor imposing Taxes on us without our Consent: For depriving us in many cases,\\nof the benefits of Trial by Jury:\\nFor transporting us beyond Seas to be tried for pretended offences\\nFor abolishing the free System of English Laws in a neighbouring Province,\\nestablishing therein an Arbitrary government, and enlarging its Boundaries so as'),\n",
       " Document(metadata={'source': 'US_Declaration.pdf', 'page': 2}, page_content='to render it at once an example and fit instrument for introducing the same\\nabsolute rule into these Colonies:\\nFor taking away our Charters, abolishing our most valuable Laws, and altering\\nfundamentally the Forms of our Governments:\\nFor suspending our own Legislatures, and declaring themselves invested with\\npower to legislate for us in all cases whatsoever.\\nHe has abdicated Government here, by declaring us out of his Protection and\\nwaging War against us.\\nHe has plundered our seas, ravaged our Coasts, burnt our towns, and destroyed the\\nlives of our people.\\nHe is at this time transporting large Armies of foreign Mercenaries to compleat\\nthe works of death, desolation and tyranny, already begun with circumstances of\\nCruelty & perfidy scarcely paralleled in the most barbarous ages, and totally\\nunworthy of the Head of a civilized nation.\\nHe has constrained our fellow Citizens taken Captive on the high Seas to bear\\nArms against their Country, to become the executioners of their friends and\\nBrethren, or to fall themselves by their Hands.\\nHe has excited domestic insurrections amongst us, and has endeavoured to bring\\non the inhabitants of our frontiers, the merciless Indian Savages, whose known\\nrule of warfare, is an undistinguished destruction of all ages, sexes and conditions. \\nIn every stage of these Oppressions We have Petitioned for Redress in the most humble terms:\\nOur repeated Petitions have been answered only by repeated injury. A Prince whose character is\\nthus marked by every act which may define a Tyrant, is unfit to be the ruler of a free people. \\nNor have We been wanting in attentions to our Brittish brethren. We have warned them from\\ntime to time of attempts by their legislature to extend an unwarrantable jurisdiction over us. We\\nhave reminded them of the circumstances of our emigration and settlement here. We have\\nappealed to their native justice and magnanimity, and we have conjured them by the ties of our\\ncommon kindred to disavow these usurpations, which, would inevitably interrupt our\\nconnections and correspondence. They too have been deaf to the voice of justice and of\\nconsanguinity. We must, therefore, acquiesce in the necessity, which denounces our Separation,\\nand hold them, as we hold the rest of mankind, Enemies in War, in Peace Friends. \\nWe, therefore, the Representatives of the united States of America, in General Congress,\\nAssembled, appealing to the Supreme Judge of the world for the rectitude of our intentions, do,\\nin the Name, and by Authority of the good People of these Colonies, solemnly publish and\\ndeclare, That these United Colonies are, and of Right ought to be Free and Independent States;\\nthat they are Absolved from all Allegiance to the British Crown, and that all political connection'),\n",
       " Document(metadata={'source': 'US_Declaration.pdf', 'page': 3}, page_content='between them and the State of Great Britain, is and ought to be totally dissolved; and that as Free\\nand Independent States, they have full Power to levy War, conclude Peace, contract Alliances,\\nestablish Commerce, and to do all other Acts and Things which Independent States may of right\\ndo. And for the support of this Declaration, with a firm reliance on the protection of divine\\nProvidence, we mutually pledge to each other our Lives, our Fortunes and our sacred Honor.\\n[The 56 signatures on the Declaration were arranged in six columns:] \\n[Column 1]\\n Georgia:\\n   Button Gwinnett\\n   Lyman Hall\\n   George Walton \\n[Column 2]\\n North Carolina:\\n   William Hooper\\n   Joseph Hewes\\n   John Penn\\n South Carolina:\\n   Edward Rutledge\\n   Thomas Heyward, Jr.\\n  Thomas Lynch, Jr.\\n  Arthur Middleton \\n[Column 3]\\n Massachusetts:\\n   John Hancock\\n Maryland:\\n   Samuel Chase\\n   William Paca\\n   Thomas Stone\\n   Charles Carroll of Carrollton\\n Virginia:\\n   George Wythe\\n   Richard Henry Lee\\n   Thomas Jefferson\\n   Benjamin Harrison\\n   Thomas Nelson, Jr.\\n   Francis Lightfoot Lee\\n   Carter Braxton \\n[Column 4]\\n Pennsylvania:\\n  Robert Morris\\n   Benjamin Rush\\n   Benjamin Franklin\\n   John Morton'),\n",
       " Document(metadata={'source': 'US_Declaration.pdf', 'page': 4}, page_content='   George Clymer\\n   James Smith\\n   George Taylor\\n   James Wilson\\n   George Ross\\n Delaware:\\n   Caesar Rodney\\n   George Read\\n   Thomas McKean \\n[Column 5]\\n New York:\\n   William Floyd\\n   Philip Livingston\\n   Francis Lewis\\n   Lewis Morris\\n New Jersey:\\n   Richard Stockton\\n   John Witherspoon\\n   Francis Hopkinson\\n   John Hart\\n   Abraham Clark \\n[Column 6]\\n New Hampshire:\\n   Josiah Bartlett\\n   William Whipple\\n Massachusetts:\\n   Samuel Adams\\n   John Adams\\n   Robert Treat Paine\\n   Elbridge Gerry\\n Rhode Island:\\n   Stephen Hopkins\\n   William Ellery\\n Connecticut:\\n   Roger Sherman\\n   Samuel Huntington\\n   William Williams\\n   Oliver Wolcott\\n New Hampshire:\\n Matthew Thornton\\n ')]"
      ]
     },
     "execution_count": 53,
     "metadata": {},
     "output_type": "execute_result"
    }
   ],
   "source": [
    "#Read a PDF file \n",
    "from langchain_community.document_loaders import PyPDFLoader    \n",
    "loader=PyPDFLoader(\"US_Declaration.pdf\")\n",
    "docs=loader.load()\n",
    "docs"
   ]
  },
  {
   "cell_type": "code",
   "execution_count": 55,
   "metadata": {},
   "outputs": [
    {
     "data": {
      "text/plain": [
       "list"
      ]
     },
     "execution_count": 55,
     "metadata": {},
     "output_type": "execute_result"
    }
   ],
   "source": [
    "type(docs)"
   ]
  },
  {
   "cell_type": "code",
   "execution_count": 90,
   "metadata": {},
   "outputs": [],
   "source": [
    "# Web Based Loader\n",
    "import bs4\n",
    "from langchain_community.document_loaders import WebBaseLoader\n",
    "loader = WebBaseLoader(web_path=(\"https://www.gutenberg.org/about/background/50years.html\"),\n",
    "                       bs_kwargs=dict(parse_only=bs4.SoupStrainer(\n",
    "                                      class_=(\n",
    "                                          \"page_content\",\n",
    "                                          \"<h2>\",\n",
    "                                          \"title\"\n",
    "                                          ))))\n",
    "\n"
   ]
  },
  {
   "cell_type": "code",
   "execution_count": null,
   "metadata": {},
   "outputs": [],
   "source": [
    "loader.load()"
   ]
  },
  {
   "cell_type": "code",
   "execution_count": null,
   "metadata": {},
   "outputs": [],
   "source": [
    "##ArXiv\n",
    "from langchain_community.document_loaders import ArxivLoader\n",
    "loader = ArxivLoader(query=\"1706.0376\", load_max_docs=2)\n",
    "docs = loader.load()\n",
    "\n"
   ]
  },
  {
   "cell_type": "code",
   "execution_count": 8,
   "metadata": {},
   "outputs": [
    {
     "data": {
      "text/plain": [
       "2"
      ]
     },
     "execution_count": 8,
     "metadata": {},
     "output_type": "execute_result"
    }
   ],
   "source": [
    "from langchain_community.document_loaders import WikipediaLoader\n",
    "docs = WikipediaLoader(query=\"Natural Language Processing\",load_max_docs=2).load()\n",
    "len(docs)\n",
    "\n"
   ]
  },
  {
   "cell_type": "code",
   "execution_count": null,
   "metadata": {},
   "outputs": [],
   "source": []
  }
 ],
 "metadata": {
  "kernelspec": {
   "display_name": "base",
   "language": "python",
   "name": "python3"
  },
  "language_info": {
   "codemirror_mode": {
    "name": "ipython",
    "version": 3
   },
   "file_extension": ".py",
   "mimetype": "text/x-python",
   "name": "python",
   "nbconvert_exporter": "python",
   "pygments_lexer": "ipython3",
   "version": "3.12.7"
  }
 },
 "nbformat": 4,
 "nbformat_minor": 2
}
